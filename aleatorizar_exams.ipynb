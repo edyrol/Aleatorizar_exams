{
 "cells": [
  {
   "cell_type": "markdown",
   "metadata": {},
   "source": [
    "# Aleatorizar exámenes\n",
    "\n",
    "Crea exámenes aleatorios a partir de un archivo tex.\n",
    "\n",
    "El formato es `aleatoriza(filename,num_exams,separator)`.\n",
    "\n",
    "`filename` es un archivo tex. Debe contener algo como `\\newcommand{\\numa}{xxxa} %option1,option2`. Lo que hace es identifica la palabra (de 4 letras) que empieza con `xxx` y la reemplaza aleatoriamente con una de las opciones comentadas de ese renglón. Hay que tener cuidado de que el texto no contenga la palabra `xxx` en otros lados.\n",
    "\n",
    "`num_exams` es el número de examenes que se generarán, puede que salgan repetidos.\n",
    "\n",
    "`separator` es el símbolo con el que se separan las opciones en los comentarios. Es una coma por default.\n",
    "\n",
    "Se imprimen las posibles sustituciones para evitar errores. Compila los archivos y deja únicamente los pdf."
   ]
  },
  {
   "cell_type": "code",
   "execution_count": 1,
   "metadata": {},
   "outputs": [],
   "source": [
    "import random\n",
    "import os\n",
    "\n",
    "def aleatoriza(filename,num_exams,separator=','):\n",
    "    with open(filename) as f:\n",
    "        read_data = f.read()\n",
    "    possible_values = read_data.split('xxx')[1:]\n",
    "    abc = ['xxx'+t[0] for t in possible_values]\n",
    "    possible_values = [t.split('\\n')[0].split('%')[1].split(separator) for t in possible_values]\n",
    "    for x,y in zip(abc,possible_values):\n",
    "        print(f'{x} -> {y}')\n",
    "    generated = set()\n",
    "    for i in range(num_exams):\n",
    "        tex=read_data\n",
    "        values = [random.sample(pv,1)[0] for pv in possible_values]\n",
    "        for x,y in zip(abc,values):\n",
    "            tex = tex.replace(x,y)\n",
    "        name = filename[:-4]+'_'+str(i)+'.tex'\n",
    "        with open(name,'w') as f:\n",
    "            f.write(tex)\n",
    "        os.system(\"pdflatex \"+name)\n",
    "        os.system(\"del \"+name)\n",
    "    os.system(\"del *.aux\")\n",
    "    os.system(\"del *.log\")\n",
    "    os.system(\"del *.gz\")"
   ]
  },
  {
   "cell_type": "code",
   "execution_count": 2,
   "metadata": {},
   "outputs": [
    {
     "name": "stdout",
     "output_type": "stream",
     "text": [
      "xxxa -> ['A\\\\cup B', 'A\\\\cap B']\n",
      "xxxb -> ['1', '2', '3', '4', '5', '6']\n",
      "xxxc -> ['6', '7', '8']\n"
     ]
    }
   ],
   "source": [
    "aleatoriza('exam.tex',2)"
   ]
  },
  {
   "cell_type": "code",
   "execution_count": null,
   "metadata": {},
   "outputs": [],
   "source": []
  }
 ],
 "metadata": {
  "kernelspec": {
   "display_name": "Python 3",
   "language": "python",
   "name": "python3"
  },
  "language_info": {
   "codemirror_mode": {
    "name": "ipython",
    "version": 3
   },
   "file_extension": ".py",
   "mimetype": "text/x-python",
   "name": "python",
   "nbconvert_exporter": "python",
   "pygments_lexer": "ipython3",
   "version": "3.7.11"
  }
 },
 "nbformat": 4,
 "nbformat_minor": 4
}
